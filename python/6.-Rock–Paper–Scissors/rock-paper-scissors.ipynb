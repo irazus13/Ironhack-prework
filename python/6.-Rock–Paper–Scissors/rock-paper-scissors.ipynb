{
 "cells": [
  {
   "cell_type": "markdown",
   "metadata": {},
   "source": [
    "<img src=\"https://bit.ly/2VnXWr2\" width=\"100\" align=\"left\">"
   ]
  },
  {
   "cell_type": "markdown",
   "metadata": {},
   "source": [
    "# Rock, Paper & Scissors\n",
    "\n",
    "Let's play the famous game against our computer. You can check the rules [here](https://en.wikipedia.org/wiki/Rock%E2%80%93paper%E2%80%93scissors). \n",
    "\n",
    "## Task\n",
    "Create a program that imitates the playability of the well known game of rock, paper, scissors. Follow the guidelines provided.\n",
    "\n",
    "## Tools\n",
    "1. Loop: **for/while**\n",
    "2. Functions: **input(), print()...**\n",
    "3. Conditional statements: **if, elif, else**\n",
    "4. Definition of functions. Modular programming\n",
    "5. Import modules\n",
    "\n",
    "**To solve this challenge, the use of functions is recommended.**\n",
    "\n",
    "#### 1. Import the choice function of the random module."
   ]
  },
  {
   "cell_type": "code",
   "execution_count": 7,
   "metadata": {},
   "outputs": [],
   "source": [
    "import random"
   ]
  },
  {
   "cell_type": "markdown",
   "metadata": {},
   "source": [
    "#### 2. Create a list that includes the 3 possible gesture options of the game: 'rock', 'paper' or 'scissors'. Store the list in a variable called `gestures`."
   ]
  },
  {
   "cell_type": "code",
   "execution_count": 8,
   "metadata": {},
   "outputs": [],
   "source": [
    "gestures=[\"rock\",\"paper\",\"scissors\"]"
   ]
  },
  {
   "cell_type": "markdown",
   "metadata": {},
   "source": [
    "#### 3. Create a variable called `n_rounds` to store the maximum number of rounds to play in a game. \n",
    "Remember that the number of rounds must be odd: 1, 3, 5, ..."
   ]
  },
  {
   "cell_type": "code",
   "execution_count": 93,
   "metadata": {},
   "outputs": [
    {
     "name": "stdout",
     "output_type": "stream",
     "text": [
      "How many rounds do you want to play?4\n",
      "The number of rounds has to be odd,lets add one more round and play to 5 rounds!\n",
      "5\n"
     ]
    }
   ],
   "source": [
    "def n_rounds_for_game():\n",
    "    user_n_rounds=int(input(\"How many rounds do you want to play?\"))\n",
    "    if user_n_rounds%2==1:\n",
    "        total_n_rounds=user_n_rounds\n",
    "        print(\"Okey, lets play to\",total_n_rounds,\"rounds\")\n",
    "        return total_n_rounds\n",
    "    elif user_n_rounds%2!=1:\n",
    "        total_n_rounds=user_n_rounds+1\n",
    "        print(\"The number of rounds has to be odd,lets add one more round and play to\",total_n_rounds,\"rounds!\")\n",
    "        return total_n_rounds\n",
    "print(n_rounds_for_game())"
   ]
  },
  {
   "cell_type": "markdown",
   "metadata": {},
   "source": [
    "#### 4. Create a variable called `rounds_to_win` to store the number of rounds that a player must win to win the game.\n",
    "**Hint**: the value stored in `rounds_to_win` depends on the value of `n_rounds`. "
   ]
  },
  {
   "cell_type": "code",
   "execution_count": 118,
   "metadata": {},
   "outputs": [],
   "source": [
    "#el ganador necesita la mitad mas una ronda para ganar, en la funcion necesita el argumento del numero total de rondas\n",
    "def rounds_to_be_winner(x):\n",
    "    rounds_to_win=round((x/2)+0.5)\n",
    "    print(\"You will need\",rounds_to_win,\"rounds to win\")\n",
    "    return(int(rounds_to_win))\n"
   ]
  },
  {
   "cell_type": "markdown",
   "metadata": {},
   "source": [
    "#### 5. Create two variables to store the number of rounds that the computer and the player have won. Call these variables `cpu_score` and `player_score`."
   ]
  },
  {
   "cell_type": "code",
   "execution_count": 220,
   "metadata": {},
   "outputs": [],
   "source": [
    "cpu_score=0\n",
    "player_score=0\n"
   ]
  },
  {
   "cell_type": "markdown",
   "metadata": {},
   "source": [
    "#### 6. Define a function that randomly returns one of the 3 gesture options.\n",
    "You will use this function to simulate the gesture choice of the computer. "
   ]
  },
  {
   "cell_type": "code",
   "execution_count": 96,
   "metadata": {},
   "outputs": [
    {
     "name": "stdout",
     "output_type": "stream",
     "text": [
      "paper\n"
     ]
    }
   ],
   "source": [
    "def return_gestures():\n",
    "    cpu_choice=random.choice(gestures)\n",
    "    return (cpu_choice)\n",
    "print(return_gestures())"
   ]
  },
  {
   "cell_type": "markdown",
   "metadata": {},
   "source": [
    "#### 7. Define a function that asks the player which is the gesture he or she wants to show: 'rock', 'paper' or 'scissors'.\n",
    "The player should only be allowed to choose one of the 3 gesture options. If the player's choice is not rock, paper or scissors, keep asking until it is."
   ]
  },
  {
   "cell_type": "code",
   "execution_count": 160,
   "metadata": {},
   "outputs": [],
   "source": [
    "def player_gesture():\n",
    "    player_selec=input(\"select your movement:'rock', 'paper' or 'scissors' \")\n",
    "    if (player_selec==\"rock\")or(player_selec==\"paper\")or(player_selec==\"scissors\") :\n",
    "        player_selec=player_selec\n",
    "        return(player_selec)\n",
    "    else:\n",
    "        player_gesture()\n",
    "        return"
   ]
  },
  {
   "cell_type": "markdown",
   "metadata": {},
   "source": [
    "#### 8. Define a function that checks who won a round. \n",
    "The function should return 0 if there is a tie, 1 if the computer wins and 2 if the player wins."
   ]
  },
  {
   "cell_type": "code",
   "execution_count": 178,
   "metadata": {},
   "outputs": [],
   "source": [
    "#necesita como argumentos los movimientos de la cpu y los movimientos de la persona\n",
    "def check_battle(cpu_choice,player_gesture):\n",
    "    if cpu_choice==player_gesture:\n",
    "        battle=0\n",
    "        return (battle)\n",
    "    elif (cpu_choice==\"rock\" and player_gesture==\"scissors\"):\n",
    "        battle=1\n",
    "        return (battle)\n",
    "    elif (cpu_choice==\"paper\"and player_gesture==\"rock\"):\n",
    "        battle=1\n",
    "        return (battle)\n",
    "    elif (cpu_choice==\"scissors\" and player_gesture==\"paper\"):\n",
    "        battle=1\n",
    "        return (battle)\n",
    "    else:\n",
    "        battle=2\n",
    "        return (battle)\n"
   ]
  },
  {
   "cell_type": "markdown",
   "metadata": {},
   "source": [
    "#### 9. Define a function that prints the choice of the computer, the choice of the player and a message that announces who won the current round. \n",
    "You should also use this function to update the variables that count the number of rounds that the computer and the player have won. The score of the winner increases by one point. If there is a tie, the score does not increase."
   ]
  },
  {
   "cell_type": "code",
   "execution_count": 222,
   "metadata": {},
   "outputs": [],
   "source": [
    "#necesita el argumento de checkbattle\n",
    "def update_count(check_battle):\n",
    "    global cpu_score\n",
    "    global player_score\n",
    "    if check_battle==1:\n",
    "        cpu_score+=1\n",
    "        winner=\"cpu\"\n",
    "        print(\"the round winner is cpu\")\n",
    "        return cpu_score\n",
    "    elif check_battle==2:\n",
    "        player_score+=1\n",
    "        winner=\"player\"\n",
    "        print(\"the round winner is the person\")\n",
    "        return player_score\n",
    "    elif check_battle==0:\n",
    "        winner=0\n",
    "        print(\"No winners in this round, TIE!\")\n",
    "        return winner\n"
   ]
  },
  {
   "cell_type": "markdown",
   "metadata": {},
   "source": [
    "#### 10. Now it's time to code the execution of the game using the functions and variables you defined above. \n",
    "\n",
    "First, create a loop structure that repeats while no player reaches the minimum score necessary to win and the number of rounds is less than the maximum number of rounds to play in a game.  \n",
    "\n",
    "Inside the loop, use the functions and variables above to create the execution of a round: ask for the player's choice, generate the random choice of the computer, show the round results, update the scores, etc. "
   ]
  },
  {
   "cell_type": "code",
   "execution_count": 250,
   "metadata": {},
   "outputs": [
    {
     "name": "stdout",
     "output_type": "stream",
     "text": [
      "How many rounds do you want to play?4\n",
      "The number of rounds has to be odd,lets add one more round and play to 5 rounds!\n",
      "You will need 3 rounds to win\n",
      "Round  1\n",
      "select your movement:'rock', 'paper' or 'scissors' rock\n",
      "No winners in this round, TIE!\n",
      "Player choice was: rock ,cpu choice was:  rock . The current result is: 0 cpu and 0 player\n",
      "Round  2\n",
      "select your movement:'rock', 'paper' or 'scissors' paper\n",
      "the round winner is cpu\n",
      "Player choice was: paper ,cpu choice was:  scissors . The current result is: 1 cpu and 0 player\n",
      "Round  3\n",
      "select your movement:'rock', 'paper' or 'scissors' scissors\n",
      "the round winner is the person\n",
      "Player choice was: scissors ,cpu choice was:  paper . The current result is: 1 cpu and 1 player\n",
      "Round  4\n",
      "select your movement:'rock', 'paper' or 'scissors' paper\n",
      "the round winner is cpu\n",
      "Player choice was: paper ,cpu choice was:  scissors . The current result is: 2 cpu and 1 player\n",
      "Round  5\n",
      "select your movement:'rock', 'paper' or 'scissors' rock\n",
      "No winners in this round, TIE!\n",
      "Player choice was: rock ,cpu choice was:  rock . The current result is: 2 cpu and 1 player\n",
      "finally the winner is the cpu!\n"
     ]
    }
   ],
   "source": [
    "cpu_score=0\n",
    "player_score=0\n",
    "total_rounds=n_rounds_for_game()\n",
    "rounds_for_win=rounds_to_be_winner(total_rounds)\n",
    "for i in range(total_rounds):\n",
    "    print(\"Round \",i+1)\n",
    "    player=player_gesture()\n",
    "    cpu=return_gestures()\n",
    "    win=check_battle(cpu,player)\n",
    "    count=update_count(win)\n",
    "    print(\"Player choice was:\",player,\",cpu choice was: \",cpu,\". The current result is:\",cpu_score,\"cpu and\",player_score,\"player\")\n",
    "    if cpu_score==rounds_for_win:\n",
    "        print(\"the final winner is cpu \",cpu_score,\" vs \",player_score,\".\")\n",
    "        break\n",
    "    elif player_score==rounds_for_win:\n",
    "        print(\"the final winner is the player \",player_score,\" vs \",cpu_score,\".\")\n",
    "        break\n",
    "else:\n",
    "    if cpu_score<player_score:\n",
    "        final_winner=\"finally the winner is the player!\"\n",
    "        print(final_winner)\n",
    "    elif cpu_score>player_score:\n",
    "        final_winner=\"finally the winner is the cpu!\"\n",
    "        print(final_winner)\n",
    "    else:\n",
    "        final_winner=\"Finally there is a TIE!\"\n",
    "        print(final_winner)"
   ]
  },
  {
   "cell_type": "markdown",
   "metadata": {},
   "source": [
    "## 11. Print the winner of the game based on who won more rounds.\n",
    "Remember that the game might be tied. "
   ]
  },
  {
   "cell_type": "code",
   "execution_count": 252,
   "metadata": {},
   "outputs": [
    {
     "name": "stdout",
     "output_type": "stream",
     "text": [
      "finally the winner is the cpu!\n"
     ]
    }
   ],
   "source": [
    "print(final_winner)"
   ]
  },
  {
   "cell_type": "markdown",
   "metadata": {},
   "source": [
    "# Bonus: Rock, Paper, Scissors, Lizard & Spock\n",
    "![](images/rpsls.jpg)\n",
    "\n",
    "In this challenge, you need to improve the previous game by adding two new options. To know more about the rules of the improved version of rock, paper, scissors, check this [link](http://www.samkass.com/theories/RPSSL.html). \n",
    "\n",
    "In addition, you will also need to improve how the game interacts with the player: the number of rounds to play, which must be an odd number, will be requested to the user until a valid number is entered. Define a new function to make that request.\n",
    "\n",
    "**Hint**: Try to reuse the code that you already coded in the previous challenge. If your code is efficient, this bonus will only consist of simple modifications to the original game."
   ]
  },
  {
   "cell_type": "code",
   "execution_count": 282,
   "metadata": {},
   "outputs": [],
   "source": [
    "#adding new gestures\n",
    "new_gestures=[\"rock\",\"paper\",\"scissors\",\"lizard\",\"spock\"]\n",
    "\n"
   ]
  },
  {
   "cell_type": "code",
   "execution_count": 283,
   "metadata": {},
   "outputs": [],
   "source": [
    "#cpu return of the new gestures\n",
    "def return_new_gestures():\n",
    "    cpu_choice=random.choice(new_gestures)\n",
    "    return (cpu_choice)"
   ]
  },
  {
   "cell_type": "code",
   "execution_count": 284,
   "metadata": {},
   "outputs": [],
   "source": [
    "#player new options\n",
    "def player_new_gesture():\n",
    "    player_selec=input(\"select your movement:'rock', 'paper','scissors','lizard'or'spock' \")\n",
    "    if (player_selec==\"rock\")or(player_selec==\"paper\")or(player_selec==\"scissors\")or(player_selec==\"lizard\")or(player_selec==\"spock\") :\n",
    "        player_selec=player_selec\n",
    "        return(player_selec)\n",
    "    else:\n",
    "        player_gesture()\n",
    "        return"
   ]
  },
  {
   "cell_type": "code",
   "execution_count": 285,
   "metadata": {},
   "outputs": [],
   "source": [
    "#adding new results\n",
    "def check_new_battle(cpu_choice,player_gesture):\n",
    "    if cpu_choice==player_gesture:\n",
    "        battle=0\n",
    "        return (battle)\n",
    "    elif (cpu_choice==\"rock\" and (player_gesture==\"scissors\"or player_gesture==\"lizard\")):\n",
    "        battle=1\n",
    "        return (battle)\n",
    "    elif (cpu_choice==\"paper\"and (player_gesture==\"rock\"or player_gesture==\"spock\")):\n",
    "        battle=1\n",
    "        return (battle)\n",
    "    elif (cpu_choice==\"scissors\" and (player_gesture==\"paper\"or player_gesture==\"lizard\")):\n",
    "        battle=1\n",
    "        return (battle)\n",
    "    elif (cpu_choice==\"lizard\" and (player_gesture==\"paper\"or player_gesture==\"spock\")):\n",
    "        battle=1\n",
    "        return (battle)\n",
    "    elif (cpu_choice==\"spock\" and (player_gesture==\"scissors\"or player_gesture==\"rock\")):\n",
    "        battle=1\n",
    "        return (battle)\n",
    "    else:\n",
    "        battle=2\n",
    "        return (battle)\n"
   ]
  },
  {
   "cell_type": "code",
   "execution_count": 286,
   "metadata": {},
   "outputs": [
    {
     "name": "stdout",
     "output_type": "stream",
     "text": [
      "How many rounds do you want to play?6\n",
      "The number of rounds has to be odd,lets add one more round and play to 7 rounds!\n",
      "You will need 4 rounds to win\n",
      "Round  1\n",
      "select your movement:'rock', 'paper','scissors','lizard'or'spock' lizard\n",
      "the round winner is the person\n",
      "Player choice was: lizard ,cpu choice was:  paper . The current result is: 0 cpu and 1 player\n",
      "Round  2\n",
      "select your movement:'rock', 'paper','scissors','lizard'or'spock' rock\n",
      "the round winner is cpu\n",
      "Player choice was: rock ,cpu choice was:  spock . The current result is: 1 cpu and 1 player\n",
      "Round  3\n",
      "select your movement:'rock', 'paper','scissors','lizard'or'spock' spock\n",
      "No winners in this round, TIE!\n",
      "Player choice was: spock ,cpu choice was:  spock . The current result is: 1 cpu and 1 player\n",
      "Round  4\n",
      "select your movement:'rock', 'paper','scissors','lizard'or'spock' paper\n",
      "the round winner is the person\n",
      "Player choice was: paper ,cpu choice was:  spock . The current result is: 1 cpu and 2 player\n",
      "Round  5\n",
      "select your movement:'rock', 'paper','scissors','lizard'or'spock' rock\n",
      "No winners in this round, TIE!\n",
      "Player choice was: rock ,cpu choice was:  rock . The current result is: 1 cpu and 2 player\n",
      "Round  6\n",
      "select your movement:'rock', 'paper','scissors','lizard'or'spock' lizard\n",
      "the round winner is cpu\n",
      "Player choice was: lizard ,cpu choice was:  rock . The current result is: 2 cpu and 2 player\n",
      "Round  7\n",
      "select your movement:'rock', 'paper','scissors','lizard'or'spock' spock\n",
      "the round winner is the person\n",
      "Player choice was: spock ,cpu choice was:  rock . The current result is: 2 cpu and 3 player\n",
      "finally the winner is the player!\n"
     ]
    }
   ],
   "source": [
    "#changed the names of the 3 new functions\n",
    "cpu_score=0\n",
    "player_score=0\n",
    "total_rounds=n_rounds_for_game()\n",
    "rounds_for_win=rounds_to_be_winner(total_rounds)\n",
    "for i in range(total_rounds):\n",
    "    print(\"Round \",i+1)\n",
    "    player=player_new_gesture()\n",
    "    cpu=return_new_gestures()\n",
    "    win=check_new_battle(cpu,player)\n",
    "    count=update_count(win)\n",
    "    print(\"Player choice was:\",player,\",cpu choice was: \",cpu,\". The current result is:\",cpu_score,\"cpu and\",player_score,\"player\")\n",
    "    if cpu_score==rounds_for_win:\n",
    "        print(\"the final winner is cpu \",cpu_score,\" vs \",player_score,\".\")\n",
    "        break\n",
    "    elif player_score==rounds_for_win:\n",
    "        print(\"the final winner is the player \",player_score,\" vs \",cpu_score,\".\")\n",
    "        break\n",
    "else:\n",
    "    if cpu_score<player_score:\n",
    "        final_winner=\"finally the winner is the player!\"\n",
    "        print(final_winner)\n",
    "    elif cpu_score>player_score:\n",
    "        final_winner=\"finally the winner is the cpu!\"\n",
    "        print(final_winner)\n",
    "    else:\n",
    "        final_winner=\"Finally there is a TIE!\"\n",
    "        print(final_winner)"
   ]
  }
 ],
 "metadata": {
  "kernelspec": {
   "display_name": "Python 3",
   "language": "python",
   "name": "python3"
  },
  "language_info": {
   "codemirror_mode": {
    "name": "ipython",
    "version": 3
   },
   "file_extension": ".py",
   "mimetype": "text/x-python",
   "name": "python",
   "nbconvert_exporter": "python",
   "pygments_lexer": "ipython3",
   "version": "3.8.8"
  }
 },
 "nbformat": 4,
 "nbformat_minor": 2
}
